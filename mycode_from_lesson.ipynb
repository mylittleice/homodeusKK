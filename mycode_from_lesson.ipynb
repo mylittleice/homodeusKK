{
 "cells": [
  {
   "cell_type": "code",
   "execution_count": 1,
   "metadata": {},
   "outputs": [],
   "source": [
    "hello_rules =  \"\"\"\n",
    "    say_hello = names hello tail\n",
    "    names = name names | name\n",
    "    name = Jhon | Mike | 老梁\n",
    "    hello = 你好 | 您来了 | 快请进\n",
    "    tail = 呀 | !\n",
    "\"\"\""
   ]
  },
  {
   "cell_type": "code",
   "execution_count": 100,
   "metadata": {},
   "outputs": [],
   "source": [
    "def get_generate_by_grammar(grammar_str,target,stmt_split='=',or_split='|'):\n",
    "    rules = dict() #key is the @statement,value is @expression\n",
    "    for line in grammar_str.split('\\n'):\n",
    "        if not line:continue\n",
    "        # skip the empty line\n",
    "        stmt,expr = line.split(stmt_split)\n",
    "        rules[stmt.strip()] = expr.split(or_split)\n",
    "#         print(rules)\n",
    "    return generate(rules,target)\n",
    "\n"
   ]
  },
  {
   "cell_type": "code",
   "execution_count": 82,
   "metadata": {},
   "outputs": [],
   "source": [
    "def generate(grammar_rule,target):\n",
    "    if target in grammar_rule:\n",
    "        candidates = grammar_rule[target]\n",
    "        candidate = random.choice(candidates).strip().split(' ')\n",
    "        return \" \".join(generate(grammar_rule,target=c) for c in candidate)\n",
    "        print('s')\n",
    "    else:\n",
    "        return target"
   ]
  },
  {
   "cell_type": "code",
   "execution_count": 83,
   "metadata": {},
   "outputs": [
    {
     "data": {
      "text/plain": [
       "'Jhon 快请进 呀'"
      ]
     },
     "execution_count": 83,
     "metadata": {},
     "output_type": "execute_result"
    }
   ],
   "source": [
    "get_generate_by_grammar(hello_rules,'say_hello')"
   ]
  },
  {
   "cell_type": "code",
   "execution_count": 98,
   "metadata": {},
   "outputs": [],
   "source": [
    "simple_grammar = \"\"\"\n",
    "sentence => noun phrase verb_phrase \n",
    "noun_phrase => Article Adj* noun \n",
    "Adj* => null | Adj Adj* \n",
    "verb_phrase => verb noun_phrase\n",
    "Article => ⼀个 | 这个\n",
    "noun => ⼥⼈ | 篮球 | 桌⼦ | ⼩猫\n",
    "verb => 看着 | 坐在 | 听着 | 看⻅\n",
    "Adj => 蓝⾊的 | 好看的 | ⼩⼩的\n",
    "\"\"\""
   ]
  },
  {
   "cell_type": "code",
   "execution_count": 101,
   "metadata": {},
   "outputs": [
    {
     "data": {
      "text/plain": [
       "'⼩猫 phrase 听着 这个 好看的 蓝⾊的 蓝⾊的 null ⼩猫'"
      ]
     },
     "execution_count": 101,
     "metadata": {},
     "output_type": "execute_result"
    }
   ],
   "source": [
    "get_generate_by_grammar(simple_grammar,target='sentence',stmt_split='=>')"
   ]
  },
  {
   "cell_type": "markdown",
   "metadata": {},
   "source": [
    "# language model\n",
    "\n",
    "#input:Sentence(w1...wn)\n",
    "#output:Probability(0,1)\n",
    "\n",
    "$$ pr(sentence) = pr(w_1 \\cdot w_2 \\cdot w_n) = \\prod \\frac{count(w_i,w_{i+1})}{count(w_i)} $$"
   ]
  },
  {
   "cell_type": "code",
   "execution_count": 4,
   "metadata": {},
   "outputs": [
    {
     "data": {
      "text/plain": [
       "59547"
      ]
     },
     "execution_count": 4,
     "metadata": {},
     "output_type": "execute_result"
    }
   ],
   "source": [
    "corpus = r'D:\\art.txt'\n",
    "file = open(corpus).read()\n",
    "len(file)"
   ]
  },
  {
   "cell_type": "code",
   "execution_count": 6,
   "metadata": {},
   "outputs": [
    {
     "data": {
      "text/plain": [
       "['惕',\n",
       " '之',\n",
       " '盘',\n",
       " '象',\n",
       " '剧',\n",
       " '者',\n",
       " '定',\n",
       " '有',\n",
       " '记',\n",
       " '在',\n",
       " '跌',\n",
       " '上',\n",
       " '生',\n",
       " '银',\n",
       " '爱',\n",
       " '过',\n",
       " '维',\n",
       " '英',\n",
       " '往',\n",
       " '龙']"
      ]
     },
     "execution_count": 6,
     "metadata": {},
     "output_type": "execute_result"
    }
   ],
   "source": [
    "import random\n",
    "def generate_by_pro(text_corpus,length=20):\n",
    "    return random.sample(text_corpus,length)\n",
    "generate_by_pro(file)"
   ]
  },
  {
   "cell_type": "code",
   "execution_count": 12,
   "metadata": {},
   "outputs": [
    {
     "data": {
      "text/plain": [
       "[('的', 1797),\n",
       " ('一', 565),\n",
       " ('在', 543),\n",
       " ('0', 541),\n",
       " ('1', 504),\n",
       " ('是', 420),\n",
       " ('中', 408),\n",
       " ('人', 382),\n",
       " ('了', 380),\n",
       " ('2', 374)]"
      ]
     },
     "execution_count": 12,
     "metadata": {},
     "output_type": "execute_result"
    }
   ],
   "source": [
    "from collections import Counter\n",
    "\n",
    "words_count = Counter(file)\n",
    "\n",
    "words_with_fre = [f for w,f in words_count.most_common()]\n",
    "\n",
    "words_count.most_common(10)"
   ]
  },
  {
   "cell_type": "code",
   "execution_count": 13,
   "metadata": {},
   "outputs": [
    {
     "data": {
      "image/png": "[encoded data removed]",
      "text/plain": [
       "<Figure size 600x600 with 1 Axes>"
      ]
     },
     "metadata": {},
     "output_type": "display_data"
    }
   ],
   "source": [
    "import matplotlib.pyplot as plt\n",
    "\n",
    "plt.figure(figsize=(10,10),dpi=60)\n",
    "plt.plot(words_with_fre)\n",
    "plt.show()"
   ]
  },
  {
   "cell_type": "code",
   "execution_count": 2,
   "metadata": {},
   "outputs": [],
   "source": [
    "import jieba"
   ]
  },
  {
   "cell_type": "code",
   "execution_count": 16,
   "metadata": {},
   "outputs": [],
   "source": [
    "tokens = list(jieba.cut(file))"
   ]
  },
  {
   "cell_type": "code",
   "execution_count": 18,
   "metadata": {},
   "outputs": [
    {
     "data": {
      "text/plain": [
       "['此外自', '自本周', '本周6', '6月', '月12', '12日起', '日起除', '除小米', '小米手机', '手机6']"
      ]
     },
     "execution_count": 18,
     "metadata": {},
     "output_type": "execute_result"
    }
   ],
   "source": [
    "_2_gram_words = [\n",
    "    tokens[i] + tokens[i+1] for i in range(len(tokens)-1)\n",
    "]\n",
    "\n",
    "_2_gram_words[:10]"
   ]
  },
  {
   "cell_type": "code",
   "execution_count": 34,
   "metadata": {},
   "outputs": [],
   "source": [
    "_2_gram_word_count = Counter(_2_gram_words)"
   ]
  },
  {
   "cell_type": "code",
   "execution_count": 46,
   "metadata": {},
   "outputs": [
    {
     "data": {
      "text/plain": [
       "1"
      ]
     },
     "execution_count": 46,
     "metadata": {},
     "output_type": "execute_result"
    }
   ],
   "source": [
    "def get_gram_count(word,wc):\n",
    "    if word in wc:return wc[word]\n",
    "    else:\n",
    "        return wc.most_common()[-1][-1]\n",
    "get_gram_count('xxx',words_count)"
   ]
  },
  {
   "cell_type": "code",
   "execution_count": 49,
   "metadata": {},
   "outputs": [],
   "source": [
    " def two_gram_model(sentence):\n",
    "        tokens = list(jieba.cut(sentence))\n",
    "        \n",
    "        probability = 1\n",
    "        \n",
    "        for i in range(len(tokens)-1):\n",
    "            first_word = tokens[i]\n",
    "            next_word = tokens[i+1]\n",
    "            \n",
    "            two_word_count = get_gram_count(first_word+next_word,_2_gram_word_count)\n",
    "            next_word_count = get_gram_count(next_word,words_count)\n",
    "            \n",
    "            pro = two_word_count / next_word_count \n",
    "            \n",
    "            probability *= pro\n",
    "            \n",
    "        return probability"
   ]
  },
  {
   "cell_type": "code",
   "execution_count": 50,
   "metadata": {},
   "outputs": [
    {
     "data": {
      "text/plain": [
       "0.14285714285714285"
      ]
     },
     "execution_count": 50,
     "metadata": {},
     "output_type": "execute_result"
    }
   ],
   "source": [
    "two_gram_model('前天早上吃')"
   ]
  },
  {
   "cell_type": "code",
   "execution_count": 51,
   "metadata": {},
   "outputs": [
    {
     "data": {
      "text/plain": [
       "0.005917159763313609"
      ]
     },
     "execution_count": 51,
     "metadata": {},
     "output_type": "execute_result"
    }
   ],
   "source": [
    "two_gram_model('我明天要上班')"
   ]
  },
  {
   "cell_type": "code",
   "execution_count": 52,
   "metadata": {},
   "outputs": [
    {
     "data": {
      "text/plain": [
       "0.14285714285714285"
      ]
     },
     "execution_count": 52,
     "metadata": {},
     "output_type": "execute_result"
    }
   ],
   "source": [
    "two_gram_model('上吃')"
   ]
  },
  {
   "cell_type": "code",
   "execution_count": null,
   "metadata": {},
   "outputs": [],
   "source": []
  }
 ],
 "metadata": {
  "kernelspec": {
   "display_name": "Python 3",
   "language": "python",
   "name": "python3"
  },
  "language_info": {
   "codemirror_mode": {
    "name": "ipython",
    "version": 3
   },
   "file_extension": ".py",
   "mimetype": "text/x-python",
   "name": "python",
   "nbconvert_exporter": "python",
   "pygments_lexer": "ipython3",
   "version": "3.6.5"
  }
 },
 "nbformat": 4,
 "nbformat_minor": 2
}
